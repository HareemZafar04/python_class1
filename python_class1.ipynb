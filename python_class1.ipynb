{
  "nbformat": 4,
  "nbformat_minor": 0,
  "metadata": {
    "colab": {
      "provenance": []
    },
    "kernelspec": {
      "name": "python3",
      "display_name": "Python 3"
    },
    "language_info": {
      "name": "python"
    }
  },
  "cells": [
    {
      "cell_type": "code",
      "execution_count": 2,
      "metadata": {
        "colab": {
          "base_uri": "https://localhost:8080/"
        },
        "id": "ShcN3H0iHOCc",
        "outputId": "941d71bc-4d78-40dc-d1a3-0a54b0771b64"
      },
      "outputs": [
        {
          "output_type": "stream",
          "name": "stdout",
          "text": [
            "12\n",
            "5\n",
            "5.0\n",
            "10\n",
            "64\n",
            "5\n",
            "1\n",
            "25\n",
            "False\n",
            "True\n",
            "False\n",
            "False\n",
            "True\n",
            "True\n"
          ]
        }
      ],
      "source": [
        "# name: str = \"Sir Aneeq\"\n",
        "# age: int = 20\n",
        "# is_active: bool = True\n",
        "\n",
        "# yahan men variable ko override kr rha hn\n",
        "# name = \"Sir Ameen\"\n",
        "\n",
        "# print(name)\n",
        "\n",
        "\n",
        "# 1. Arithematic operators\n",
        "# 2. Assigment operators\n",
        "# 3. Comparison operators (boolean) True/False\n",
        "# 4. Logical operators\n",
        "\n",
        "\n",
        "#  1. Arithematic operators\n",
        "\n",
        "#  7 + 5 = 12\n",
        "print(7 + 5)\n",
        "print(10 - 5)\n",
        "print(10 / 2)\n",
        "#     5 X 2\n",
        "print(5 * 2)\n",
        "# exponent  8^2 = 8 X 8\n",
        "print(8 ** 2)\n",
        "# floor division\n",
        "print(11 // 2)\n",
        "#      11 / 2 = 1  remainder / modulus\n",
        "print(11 % 2)\n",
        "\n",
        "num1: int = 5\n",
        "num2: int = 5\n",
        "\n",
        "#           5   +  5\n",
        "sum: int = num1 + num2\n",
        "#           5   -  5\n",
        "sub: int = num1 - num2\n",
        "#           5   /  5\n",
        "div: int = num1 / num2\n",
        "#           5   x  5\n",
        "mul: int = num1 * num2\n",
        "print(mul)\n",
        "\n",
        "\n",
        "# 2. Assigment operators\n",
        "\n",
        "#  x: int = 15\n",
        "#  15 + 5 = 15\n",
        "# x = x + 5\n",
        "# x = x - 5\n",
        "# x = x * 2\n",
        "\n",
        "# x: int = 15\n",
        "#   15 * 2 = 30\n",
        "# remainder / modulus\n",
        "# x = x % 3\n",
        "\n",
        "# print(x)\n",
        "\n",
        "\n",
        "# 3. Comparison operators (True/False)\n",
        "#  ==   (equal to)\n",
        "#  >    (greater than)\n",
        "#  <    (less than)\n",
        "#  >=   (greater or equal to)\n",
        "#  <=    (less than or equal to)\n",
        "#  !=    (not equal to)\n",
        "\n",
        "#  mera pehla operand/value\n",
        "# dusre wale operand/value k baraber he\n",
        "\n",
        "num1: int = 10\n",
        "num2: int = 11\n",
        "# print(10 == 10)\n",
        "print(num1 == num2)\n",
        "print(num2 > num1)\n",
        "print(num2 < num1)\n",
        "print(num1 >= num2 )\n",
        "print(num1 <= num2)\n",
        "print(num1 != num2)\n",
        "\n",
        "\n",
        "# Logical operators\n",
        "#  and, or , not"
      ]
    },
    {
      "cell_type": "code",
      "source": [],
      "metadata": {
        "id": "Zjrbzv1CHO1I"
      },
      "execution_count": null,
      "outputs": []
    }
  ]
}